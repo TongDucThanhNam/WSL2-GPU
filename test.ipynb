{
 "cells": [
  {
   "cell_type": "code",
   "execution_count": 3,
   "outputs": [
    {
     "name": "stdout",
     "output_type": "stream",
     "text": [
      "11.2 8\n"
     ]
    }
   ],
   "source": [
    "import tensorflow as tf\n",
    "tf.config.list_physical_devices(\"GPU\")\n",
    "sys_details = tf.sysconfig.get_build_info()\n",
    "cuda = sys_details[\"cuda_version\"]\n",
    "cudnn = sys_details[\"cudnn_version\"]\n",
    "print(cuda, cudnn)"
   ],
   "metadata": {
    "collapsed": false
   }
  },
  {
   "cell_type": "code",
   "execution_count": 4,
   "outputs": [
    {
     "data": {
      "text/plain": "[PhysicalDevice(name='/physical_device:GPU:0', device_type='GPU')]"
     },
     "execution_count": 4,
     "metadata": {},
     "output_type": "execute_result"
    }
   ],
   "source": [
    "import tensorflow as tf\n",
    "tf.config.list_physical_devices(\"GPU\")"
   ],
   "metadata": {
    "collapsed": false
   }
  },
  {
   "cell_type": "code",
   "execution_count": 5,
   "outputs": [
    {
     "name": "stdout",
     "output_type": "stream",
     "text": [
      "1\n",
      "Thời gian chạy với Numpy: 0.0536191463470459 giây\n",
      "Thời gian chạy với CuPy: 0.007631540298461914 giây\n",
      "CPU times: user 1.6 s, sys: 782 ms, total: 2.39 s\n",
      "Wall time: 3.86 s\n"
     ]
    }
   ],
   "source": [
    "%%time\n",
    "import numpy as np\n",
    "import cupy as cp\n",
    "import time\n",
    "print(cp.cuda.runtime.getDeviceCount())\n",
    "\n",
    "# Tính tổng của 10 triệu phần tử ngẫu nhiên trong mảng Numpy\n",
    "arr_np = np.random.rand(100000000)\n",
    "start_time_np = time.time()\n",
    "total_np = np.sum(arr_np)\n",
    "end_time_np = time.time()\n",
    "print(f\"Thời gian chạy với Numpy: {end_time_np - start_time_np} giây\")\n",
    "\n",
    "# Tính tổng của 10 triệu phần tử ngẫu nhiên trong mảng CuPy\n",
    "arr_cp = cp.random.rand(100000000)\n",
    "start_time_cp = time.time()\n",
    "total_cp = cp.sum(arr_cp)\n",
    "cp.cuda.Stream.null.synchronize()\n",
    "end_time_cp = time.time()\n",
    "print(f\"Thời gian chạy với CuPy: {end_time_cp - start_time_cp} giây\")"
   ],
   "metadata": {
    "collapsed": false
   }
  },
  {
   "cell_type": "code",
   "execution_count": null,
   "outputs": [],
   "source": [],
   "metadata": {
    "collapsed": false
   }
  }
 ],
 "metadata": {
  "kernelspec": {
   "display_name": "Python 3",
   "language": "python",
   "name": "python3"
  },
  "language_info": {
   "codemirror_mode": {
    "name": "ipython",
    "version": 2
   },
   "file_extension": ".py",
   "mimetype": "text/x-python",
   "name": "python",
   "nbconvert_exporter": "python",
   "pygments_lexer": "ipython2",
   "version": "2.7.6"
  }
 },
 "nbformat": 4,
 "nbformat_minor": 0
}
